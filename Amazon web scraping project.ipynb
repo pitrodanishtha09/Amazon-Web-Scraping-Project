{
 "cells": [
  {
   "cell_type": "code",
   "execution_count": 1,
   "id": "bdf3a05b-e628-46c7-9478-b1d92701f356",
   "metadata": {},
   "outputs": [],
   "source": [
    "#import libraries\n",
    "from bs4 import BeautifulSoup\n",
    "import requests\n",
    "import time\n",
    "import datetime"
   ]
  },
  {
   "cell_type": "code",
   "execution_count": 4,
   "id": "1a272526-894f-4681-bc48-f058c21dd7e2",
   "metadata": {},
   "outputs": [
    {
     "name": "stdout",
     "output_type": "stream",
     "text": [
      "        Seek Buy Love Relax Spreadsheet Funny T-Shirt, Accountant Financial Analyst Tee, Casual Office Humor Graphic Shirt, Unisex Cotton Top (Large, Black)       \n",
      "   Product details    \n",
      "Material composition \n",
      "  \n",
      "Cotton \n",
      "    \n",
      "Fit type \n",
      "  \n",
      "Regular Fit \n",
      "    \n",
      "Sleeve type \n",
      "  \n",
      "Short Sleeve \n",
      "    \n",
      "Length \n",
      "  \n",
      "Standard Length \n",
      "    \n",
      "Neck style \n",
      "  \n",
      "Crew Neck \n",
      "    \n",
      "Style \n",
      "  \n",
      "Western \n",
      "    \n",
      "Country of Origin \n",
      "  \n",
      "India \n",
      "    About this item   UNIQUE DESIGN MAGIC - Stand out with our vibrant, trending designs, perfect for those who dare to be different. Each shirt is a canvas of creativity, aligning with the pulse of street fashion.   PURE COTTON COMFORT - Experience unparalleled comfort in our 100% cotton tees. Soft on your skin, perfect for all-day wear, whether you're lounging at home or out conquering the streets.   SIZE PERFECTION GUARANTEED - Find your perfect fit from our wide size range, designed to flatter and fit all body types impeccably, ensuring you look and feel your best. ADD TO CART now.   GIFT-GIVING HERO - Be the champion of Christmas gifts for men or birthday gift for guys. Our crew t shirts are wearable expressions of personality, making them perfect cool gifts for guys.   FUNNY T-SHIRT CHARM - Laugh out loud with our funny t-shirts for men. They're not just tees; they're cheer spreaders, ideal for lightening the mood and bringing smiles wherever you go.    Additional Information    \n",
      "Manufacturer \n",
      "  \n",
      "Seblo, 9312915036 \n",
      "    \n",
      "Packer \n",
      "  \n",
      "Seblo \n",
      "    \n",
      "Item Dimensions LxWxH \n",
      "  \n",
      "71.1 x 53.3 x 2.5 Centimeters \n",
      "    \n",
      "Net Quantity \n",
      "  \n",
      "1.00 count \n",
      "   See more About this item \n"
     ]
    }
   ],
   "source": [
    "#CONNECT TO WEBSITE AND PULL IN THE DATA \n",
    "URL = 'https://www.amazon.in/Seek-Buy-Love-Spreadsheet-Accountant/dp/B0CYXL86PN/ref=sr_1_10?crid=23OKE25P1XFUX&dib=eyJ2IjoiMSJ9.EkFu8ZndNLnSqdsrbxi1MS0zvZIDby-x_CYoX0zD7pjX7WBTzomK9qQ-9Pan22laSZqD-3ZiYx9qFCUd087ZjReFMqtAaqr0EtFEgyNVBLrCaWleYeTFeTIh3oLrtaHrh-SLr64-mJ5bb0voWvLJCsBFtRiHSvGsHK66hAHeCsWu1Cw8nBNhIJNVpKgxboYm-ENtodG8KchoG0pApaoMI_wmOoADTBTdFhLjxVgGMA0TC9SZnjskm-PCE4gqeX17CsvOiT5X_IXWdjYefgXIH8aMePTvVA3bQu5wYEkgSmw.F9JwuvFIc59sdtHd9J0PVoeCSTKtQPp6K96VtViGq44&dib_tag=se&keywords=data%2BAnalyst%2Btshirt&qid=1713894429&sprefix=data%2Banalyst%2Btshirt%2Caps%2C207&sr=8-10'\n",
    "headers = {\"User-Agent\": \"Mozilla/5.0 (Windows NT 10.0; Win64; x64) AppleWebKit/537.36 (KHTML, like Gecko) Chrome/78.0.3904.108 Safari/537.36\", \"Accept-Encoding\":\"gzip, deflate\", \"Accept\":\"text/html,application/xhtml+xml,application/xml;q=0.9,*/*;q=0.8\", \"DNT\":\"1\",\"Connection\":\"close\", \"Upgrade-Insecure-Requests\":\"1\"}\n",
    "page = requests.get(URL, headers=headers)\n",
    "soup = BeautifulSoup(page.content, \"lxml\")\n",
    "\n",
    "title = soup.find(id='productTitle').getText()\n",
    "print(title)\n",
    "facts = soup.find(id='productFactsDesktopExpander').getText()\n",
    "print(facts)\n",
    "\n",
    "\n",
    "\n",
    "\n",
    "\n",
    "\n",
    "\n",
    "\n"
   ]
  },
  {
   "cell_type": "code",
   "execution_count": 5,
   "id": "39d64b88-5446-4611-ac47-5df1f54e3ec1",
   "metadata": {},
   "outputs": [
    {
     "name": "stdout",
     "output_type": "stream",
     "text": [
      "2024-04-23\n"
     ]
    }
   ],
   "source": [
    "# tracking when the data was collected\n",
    "import datetime\n",
    "\n",
    "today = datetime.date.today()\n",
    "print(today)"
   ]
  },
  {
   "cell_type": "code",
   "execution_count": 7,
   "id": "5e7cc669-704a-4794-a9fc-b55b964cb946",
   "metadata": {},
   "outputs": [],
   "source": [
    "#create CSV and write headers and data into file\n",
    "\n",
    "import csv\n",
    "\n",
    "header = ['Heading','About','Date']\n",
    "data = [title,facts,today]\n",
    "\n",
    "with open('AmazonWebScraperDataset.csv', 'w', newline='', encoding='UTF8')as f:\n",
    "   writer = csv.writer(f)\n",
    "   writer.writerow(header)\n",
    "   writer.writerow(data)\n"
   ]
  },
  {
   "cell_type": "code",
   "execution_count": 13,
   "id": "a6c61544-8f1d-406d-a6ca-18840413783a",
   "metadata": {},
   "outputs": [
    {
     "name": "stdout",
     "output_type": "stream",
     "text": [
      "                                             Heading  \\\n",
      "0          Seek Buy Love Relax Spreadsheet Funny ...   \n",
      "1          Seek Buy Love Relax Spreadsheet Funny ...   \n",
      "2          Seek Buy Love Relax Spreadsheet Funny ...   \n",
      "3          Seek Buy Love Relax Spreadsheet Funny ...   \n",
      "4          Seek Buy Love Relax Spreadsheet Funny ...   \n",
      "\n",
      "                                               About        Date  \n",
      "0     Product details    \\nMaterial composition \\...  2024-04-23  \n",
      "1     Product details    \\nMaterial composition \\...  2024-04-23  \n",
      "2     Product details    \\nMaterial composition \\...  2024-04-23  \n",
      "3     Product details    \\nMaterial composition \\...  2024-04-23  \n",
      "4     Product details    \\nMaterial composition \\...  2024-04-23  \n"
     ]
    }
   ],
   "source": [
    "#reading csv file data and getting the data \n",
    "import pandas as pd \n",
    "\n",
    "df= pd.read_csv(r'C:\\Users\\nisht\\AmazonWebScraperDataset.csv')\n",
    "print(df)"
   ]
  },
  {
   "cell_type": "code",
   "execution_count": 12,
   "id": "99d60b77-794d-4dfd-b927-6b1e6240524a",
   "metadata": {},
   "outputs": [],
   "source": [
    "# now we are appending data to the csv\n",
    "\n",
    "with open('AmazonWebScraperDataset.csv', 'a+', newline='', encoding='UTF8')as f:\n",
    "    writer = csv.writer(f)\n",
    "    writer.writerow(data)\n",
    "\n",
    "\n",
    "\n"
   ]
  },
  {
   "cell_type": "code",
   "execution_count": null,
   "id": "e7fcdc78-1d1c-4667-ae85-319f42b70c87",
   "metadata": {},
   "outputs": [],
   "source": [
    "\n",
    "#putting the data on timer to check on it everytime it get updated.\n",
    "def check_facts():\n",
    "    URL = 'https://www.amazon.in/Seek-Buy-Love-Spreadsheet-Accountant/dp/B0CYXL86PN/ref=sr_1_10?crid=23OKE25P1XFUX&dib=eyJ2IjoiMSJ9.EkFu8ZndNLnSqdsrbxi1MS0zvZIDby-x_CYoX0zD7pjX7WBTzomK9qQ-9Pan22laSZqD-3ZiYx9qFCUd087ZjReFMqtAaqr0EtFEgyNVBLrCaWleYeTFeTIh3oLrtaHrh-SLr64-mJ5bb0voWvLJCsBFtRiHSvGsHK66hAHeCsWu1Cw8nBNhIJNVpKgxboYm-ENtodG8KchoG0pApaoMI_wmOoADTBTdFhLjxVgGMA0TC9SZnjskm-PCE4gqeX17CsvOiT5X_IXWdjYefgXIH8aMePTvVA3bQu5wYEkgSmw.F9JwuvFIc59sdtHd9J0PVoeCSTKtQPp6K96VtViGq44&dib_tag=se&keywords=data%2BAnalyst%2Btshirt&qid=1713894429&sprefix=data%2Banalyst%2Btshirt%2Caps%2C207&sr=8-10'\n",
    "    headers = {\"User-Agent\": \"Mozilla/5.0 (Windows NT 10.0; Win64; x64) AppleWebKit/537.36 (KHTML, like Gecko) Chrome/78.0.3904.108 Safari/537.36\", \"Accept-Encoding\":\"gzip, deflate\", \"Accept\":\"text/html,application/xhtml+xml,application/xml;q=0.9,*/*;q=0.8\", \"DNT\":\"1\",\"Connection\":\"close\", \"Upgrade-Insecure-Requests\":\"1\"}\n",
    "    page = requests.get(URL, headers=headers)\n",
    "    soup = BeautifulSoup(page.content, \"lxml\")\n",
    "\n",
    "    title = soup.find(id='productTitle').getText()\n",
    "    print(title)\n",
    "    facts = soup.find(id='productFactsDesktopExpander').getText()\n",
    "    print(facts)\n",
    "\n",
    "    import datetime\n",
    "\n",
    "    today = datetime.date.today()\n",
    "    print(today)\n",
    "    import csv\n",
    "\n",
    "       header = ['Heading','About','Date']\n",
    "       data = [title,facts,today]\n",
    "\n",
    "   with open('AmazonWebScraperDataset.csv', 'w', newline='', encoding='UTF8')as f:\n",
    "       writer = csv.writer(f)\n",
    "       writer.writerow(header)\n",
    "       writer.writerow(data)\n",
    " "
   ]
  },
  {
   "cell_type": "code",
   "execution_count": null,
   "id": "a0778eb4-f58a-4437-86b2-e262c8412652",
   "metadata": {},
   "outputs": [],
   "source": [
    "#for checking the prices repeatedly which gets updated on the website\n",
    "\n",
    "#while(True):\n",
    "    #check_price()\n",
    "    #time.sleep(4)"
   ]
  },
  {
   "cell_type": "code",
   "execution_count": 15,
   "id": "8335f78a-de1d-41de-9493-18aa54d89e1d",
   "metadata": {},
   "outputs": [
    {
     "name": "stdout",
     "output_type": "stream",
     "text": [
      "                                             Heading  \\\n",
      "0          Seek Buy Love Relax Spreadsheet Funny ...   \n",
      "1          Seek Buy Love Relax Spreadsheet Funny ...   \n",
      "2          Seek Buy Love Relax Spreadsheet Funny ...   \n",
      "3          Seek Buy Love Relax Spreadsheet Funny ...   \n",
      "4          Seek Buy Love Relax Spreadsheet Funny ...   \n",
      "\n",
      "                                               About        Date  \n",
      "0     Product details    \\nMaterial composition \\...  2024-04-23  \n",
      "1     Product details    \\nMaterial composition \\...  2024-04-23  \n",
      "2     Product details    \\nMaterial composition \\...  2024-04-23  \n",
      "3     Product details    \\nMaterial composition \\...  2024-04-23  \n",
      "4     Product details    \\nMaterial composition \\...  2024-04-23  \n"
     ]
    }
   ],
   "source": [
    "# reading the csv file again after the updated price has been checked from the website for the product.\n",
    "import pandas as pd \n",
    "\n",
    "df= pd.read_csv(r'C:\\Users\\nisht\\AmazonWebScraperDataset.csv')\n",
    "print(df)"
   ]
  },
  {
   "cell_type": "code",
   "execution_count": null,
   "id": "abc30ba9-ae0d-4dea-af02-53889d6c8688",
   "metadata": {},
   "outputs": [],
   "source": []
  },
  {
   "cell_type": "code",
   "execution_count": null,
   "id": "0fb4d93d-d7d1-4b74-8e25-20c1726dc66b",
   "metadata": {},
   "outputs": [],
   "source": []
  },
  {
   "cell_type": "code",
   "execution_count": null,
   "id": "e33269fb-c431-4008-be80-e875103cbd13",
   "metadata": {},
   "outputs": [],
   "source": []
  },
  {
   "cell_type": "code",
   "execution_count": null,
   "id": "e8dcbdf9-b149-4c56-9f6f-6266d1b08aaa",
   "metadata": {},
   "outputs": [],
   "source": []
  },
  {
   "cell_type": "code",
   "execution_count": null,
   "id": "7f95b4ec-feb7-4324-a5e7-6785699c6be8",
   "metadata": {},
   "outputs": [],
   "source": []
  }
 ],
 "metadata": {
  "kernelspec": {
   "display_name": "Python 3 (ipykernel)",
   "language": "python",
   "name": "python3"
  },
  "language_info": {
   "codemirror_mode": {
    "name": "ipython",
    "version": 3
   },
   "file_extension": ".py",
   "mimetype": "text/x-python",
   "name": "python",
   "nbconvert_exporter": "python",
   "pygments_lexer": "ipython3",
   "version": "3.11.7"
  }
 },
 "nbformat": 4,
 "nbformat_minor": 5
}
